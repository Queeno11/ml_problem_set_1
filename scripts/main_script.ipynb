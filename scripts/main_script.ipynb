{
  "cells": [
    {
      "cell_type": "markdown",
      "metadata": {
        "id": "YTTR2mRd2zhd"
      },
      "source": [
        "# TP 1 ML"
      ]
    },
    {
      "cell_type": "code",
      "execution_count": null,
      "metadata": {},
      "outputs": [],
      "source": []
    },
    {
      "cell_type": "code",
      "execution_count": null,
      "metadata": {
        "id": "6B6DLF6J2w3b"
      },
      "outputs": [],
      "source": [
        "import gc\n",
        "import requests\n",
        "import pandas as pd\n",
        "import numpy as np\n",
        "import seaborn as sns\n",
        "from math import sqrt\n",
        "from bs4 import BeautifulSoup\n",
        "from tqdm import tqdm\n",
        "from sklearn.metrics import mean_squared_error\n",
        "from statsmodels.formula.api import ols\n",
        "from sklearn.linear_model import LinearRegression\n",
        "from sklearn.preprocessing import PolynomialFeatures\n",
        "from sklearn.model_selection import KFold, cross_val_score\n",
        "from sklearn.model_selection import train_test_split\n",
        "\n",
        "pd.set_option('display.max_columns', None)"
      ]
    },
    {
      "cell_type": "markdown",
      "metadata": {
        "id": "BcEHKfPN15Q3"
      },
      "source": [
        "## Query Data\n",
        "\n",
        "Toma aprox 10 minutos en hacer todo el scrape, si definen pages = [1] (linea 4) se hace en 1 minuto!!\n",
        "La base data.parquet es el resultado de este scrap."
      ]
    },
    {
      "cell_type": "code",
      "execution_count": null,
      "metadata": {
        "id": "rbGPe9j9q_M0"
      },
      "outputs": [],
      "source": [
        "# dfs = []\n",
        "# pages = range(1, 11)\n",
        "# # Toma aprox 10 minutos, si quieren pueden desmutear la linea de abajo para correrlo más rápido\n",
        "# # pages = [1]\n",
        "\n",
        "# for page in tqdm(pages):\n",
        "\n",
        "#   url = f'https://ignaciomsarmiento.github.io/GEIH2018_sample/pages/geih_page_{page}.html'\n",
        "\n",
        "#   response = requests.get(url)\n",
        "\n",
        "#   soup = BeautifulSoup(response.content, 'html.parser')\n",
        "\n",
        "#   table = soup.find('table')\n",
        "\n",
        "#   data = []\n",
        "\n",
        "#   # Extract the table headers\n",
        "#   headers = []\n",
        "#   for header in table.find_all('th'):\n",
        "#       headers.append(header.text.strip())\n",
        "#   data.append(headers)\n",
        "\n",
        "#   # Extract the table rows\n",
        "#   for row in table.find_all('tr'):\n",
        "#       # Extract the table data\n",
        "#       row_data = []\n",
        "#       for cell in row.find_all('td'):\n",
        "#           row_data.append(cell.text.strip())\n",
        "#       if row_data:\n",
        "#           data.append(row_data)\n",
        "\n",
        "#   df_temp = pd.DataFrame(data, columns=headers)\n",
        "#   dfs += [df_temp]\n",
        "\n",
        "# df = pd.concat(dfs)\n",
        "# df.to_parquet(\"data.parquet\")"
      ]
    },
    {
      "cell_type": "code",
      "execution_count": null,
      "metadata": {
        "id": "h009wg5C9nAX"
      },
      "outputs": [],
      "source": [
        "df = pd.read_parquet(\"stores/data.parquet\")"
      ]
    },
    {
      "cell_type": "code",
      "execution_count": null,
      "metadata": {
        "colab": {
          "base_uri": "https://localhost:8080/"
        },
        "id": "tHMa91Hwc6EK",
        "outputId": "7ba80345-fe0a-4d92-90b0-93b40f6d4ba4"
      },
      "outputs": [],
      "source": [
        "df.info()"
      ]
    },
    {
      "cell_type": "code",
      "execution_count": null,
      "metadata": {
        "colab": {
          "base_uri": "https://localhost:8080/",
          "height": 383
        },
        "id": "L8KFbUbz4-48",
        "outputId": "79681ee0-8430-4703-e3ae-b73f56d1fe7c"
      },
      "outputs": [],
      "source": [
        "df.sample(10)"
      ]
    },
    {
      "cell_type": "markdown",
      "metadata": {
        "id": "mnOKQjw812_R"
      },
      "source": [
        "# Data cleaning"
      ]
    },
    {
      "cell_type": "code",
      "execution_count": null,
      "metadata": {
        "id": "bkolRO1Y5hDi"
      },
      "outputs": [],
      "source": [
        "# Solo me quedo con las variables que el Estado (sin la encuesta) podría observar para un individuo determinado.\n",
        "#   - Todas las Transferencias y beneficios estatales están incluídos\n",
        "#   - Vamos a generar variables \"simuladas\" donde los trabajadores informales tienen ingreso laboral 0\n",
        "\n",
        "df = df.rename(columns={\"sex\":\"male\"})\n",
        "df_full = df.copy()\n",
        "variables_relevantes = [\n",
        "    \"ingtotes\", \"ingtot\", \"ingtotob\", # Las que queremos predecir: Ingreso total (con y sin imputaciones?)\n",
        "    \"ocu\", \"formal\", # Filtro para ocupados formales (porque solo esos puede observar el Estado)\n",
        "    \"age\", \"male\", \"maxEducLevel\", \"college\", \"microEmpresa\", \"sizeFirm\", \"clase\", \"cuentaPropia\", \"relab\", # Variables clasicas de Mincer\n",
        "    \"estrato1\", \"depto\", # Efectos fijos por region/estrato\n",
        "    \"regSalud\", \"cotPension\", \"y_accidentes_m\", \"y_auxilioAliment_m\", \"y_auxilioTransp_m\", # Información observable por el Estado que puede ser util!\n",
        "    \"mes\" # Para estacionalidad\n",
        "]\n",
        "\n",
        "cat_vars = [\"maxEducLevel\", \"relab\", \"estrato1\", \"depto\", \"regSalud\", \"cotPension\"]\n",
        "df = df[variables_relevantes]"
      ]
    },
    {
      "cell_type": "code",
      "execution_count": null,
      "metadata": {
        "colab": {
          "base_uri": "https://localhost:8080/"
        },
        "id": "qDHpF-y75vi5",
        "outputId": "76134316-8963-4ecf-edae-480cdb7fc971"
      },
      "outputs": [],
      "source": [
        "## Formateo de la base\n",
        "# Elimino los nombres de las columnas en la primera observacion\n",
        "df = df.iloc[1:] # (me quedo de la fila 1 en adelante)\n",
        "\n",
        "## Formateo columnas\n",
        "# Paso a numericas\n",
        "df = df.apply(pd.to_numeric, errors=\"coerce\")\n",
        "\n",
        "# Paso a bool las dummies:\n",
        "bool_vars = []\n",
        "print(f\"### Transformación a Bool ###\")\n",
        "for col in df.columns:\n",
        "  if df[col].isin([np.nan, 0,1]).all():\n",
        "    print(f\"Columna {col} pasada a bool dtype\")\n",
        "    df[col] = df[col].astype(bool)\n",
        "    bool_vars += [col]\n",
        "\n",
        "#Filtro por edad, ocupación y mayores de edad (FIXME: estamos de acuerdo en trabajar solo con formales?)\n",
        "df = df[(df[\"ocu\"] == 1) & (df[\"age\"] >= 18) & (df[\"formal\"]==True)]\n",
        "\n",
        "# Genero binarias de las variables categóricas:\n",
        "print(f\"### Transformación a Categórica ###\")\n",
        "dummies = []\n",
        "df = pd.get_dummies(df, columns=cat_vars, drop_first=True, dummy_na=True)\n",
        "df.columns = [col.replace(\".0\",\"\") for col in df.columns]\n",
        "for col in cat_vars:\n",
        "  print(f\"Columnas {col} (categórica) transformada a binarias\")\n",
        "\n",
        "# Genero lista con variables continuas\n",
        "cont_vars = list(set(variables_relevantes) - set(bool_vars) - set(cat_vars))\n",
        "df.info()"
      ]
    },
    {
      "cell_type": "code",
      "execution_count": null,
      "metadata": {
        "colab": {
          "base_uri": "https://localhost:8080/"
        },
        "id": "wPEjyfTot6Cr",
        "outputId": "4a4d77c4-7774-4b80-89c5-8d75288c77f4"
      },
      "outputs": [],
      "source": [
        "## Limpio y genero variables\n",
        "# Las variables de ingresos observables extras tienen muchos nan pero deben ser interpretadas como ceros\n",
        "df[\"y_accidentes_m\"] = df[\"y_accidentes_m\"].fillna(0)\n",
        "df[\"y_auxilioAliment_m\"] = df[\"y_auxilioAliment_m\"].fillna(0)\n",
        "df[\"y_auxilioTransp_m\"] = df[\"y_auxilioTransp_m\"].fillna(0)\n",
        "\n",
        "# Genero logs \"ingtotes\", \"ingtot\", \"ingtotob\"\n",
        "df[\"log_ingtotes\"] = np.log(df[\"ingtotes\"])\n",
        "df[\"log_ingtotob\"] = np.log(df[\"ingtotob\"])\n",
        "df[\"log_ingtot\"]   = np.log(df[\"ingtot\"])"
      ]
    },
    {
      "cell_type": "code",
      "execution_count": null,
      "metadata": {
        "colab": {
          "base_uri": "https://localhost:8080/"
        },
        "id": "ail0MEIuA5FI",
        "outputId": "dbdd9904-5f1b-48ce-d6e3-d0dc32afbb9e"
      },
      "outputs": [],
      "source": [
        "## Formateo el dataframe\n",
        "df = df.iloc[:,(df.nunique() > 1).values] # Elimino columnas constantes\n",
        "df = df.dropna(how=\"all\", axis=1) # O que tienen todo nan\n",
        "df = df.reset_index(drop=True)\n",
        "\n",
        "# Redefino los conjuntos\n",
        "cont_vars = [col for col in cont_vars if col in df.columns]\n",
        "bool_vars = [col for col in bool_vars if col in df.columns]\n",
        "cat_vars  = [col for col in df.columns if any([old_col for old_col in cat_vars if old_col in col])]\n",
        "\n",
        "cat_vars"
      ]
    },
    {
      "cell_type": "code",
      "execution_count": null,
      "metadata": {
        "colab": {
          "base_uri": "https://localhost:8080/",
          "height": 383
        },
        "id": "VM-iIoVQGOGC",
        "outputId": "c0553b87-91ce-4549-d2e1-5ae0e9c70c71"
      },
      "outputs": [],
      "source": [
        "df.sample(10)"
      ]
    },
    {
      "cell_type": "markdown",
      "metadata": {
        "id": "-CSqtAwgAIOz"
      },
      "source": [
        "## Analisis descriptivas"
      ]
    },
    {
      "cell_type": "code",
      "execution_count": null,
      "metadata": {
        "colab": {
          "base_uri": "https://localhost:8080/",
          "height": 990
        },
        "id": "sE3CH71DcCZ1",
        "outputId": "70a495df-e4ab-4369-dfb5-7fa726f7d395"
      },
      "outputs": [],
      "source": [
        "import missingno as msno\n",
        "import matplotlib.pyplot as plt\n",
        "df_full = df_full[(df_full[\"ocu\"] == \"1\") & (df_full[\"age\"] >= \"18\") & (df_full[\"formal\"]==\"1\")]\n",
        "fig = msno.matrix(df_full[variables_relevantes].replace(\"NA\",np.nan, regex=True), figsize=(10,6), fontsize=12, labels=True, color=(0.25, 0.45, 0.6))\n",
        "plt.savefig('views/missingplot.jpg',bbox_inches='tight', dpi=150)"
      ]
    },
    {
      "cell_type": "code",
      "execution_count": null,
      "metadata": {
        "colab": {
          "base_uri": "https://localhost:8080/",
          "height": 394
        },
        "id": "7NOFivPMcblT",
        "outputId": "98f2bb55-5f51-4638-bd0f-d6a0aba455ad"
      },
      "outputs": [],
      "source": [
        "stats = df[cont_vars].describe().T\n",
        "stats[[\"count\", \"mean\", \"50%\", \"std\"]].rename(columns={\"50%\":\"median\"}).to_latex(\"views//descriptive_stats.tex\")"
      ]
    },
    {
      "cell_type": "code",
      "execution_count": null,
      "metadata": {
        "colab": {
          "base_uri": "https://localhost:8080/",
          "height": 889
        },
        "id": "E8h3rlK7cbiG",
        "outputId": "0766428b-8324-4f7b-f1d0-de6dc7573951"
      },
      "outputs": [],
      "source": [
        "sns.set(rc={'figure.figsize':(6,6)})\n",
        "sns.set_theme(style=\"ticks\")\n",
        "\n",
        "ax = sns.histplot(df[\"ingtot\"], fill=True)#, bw_adjust=0.15)\n",
        "plt.xlim([0,3_500_000])\n",
        "ax.ticklabel_format(style='plain')\n",
        "ax.set_xlabel(\"Ingreso total\")\n",
        "ax.set_ylabel(\"Frecuencia\")\n",
        "plt.savefig('views/ingreso_tot_dist.jpg',bbox_inches='tight', dpi=150)"
      ]
    },
    {
      "cell_type": "code",
      "execution_count": null,
      "metadata": {
        "colab": {
          "base_uri": "https://localhost:8080/",
          "height": 895
        },
        "id": "ouSPG5nacbbh",
        "outputId": "e6c7509f-7741-4b84-8bf3-ffa4fdec8a63"
      },
      "outputs": [],
      "source": [
        "ax = sns.scatterplot(data=df, y=\"log_ingtot\", x=\"log_ingtotob\", s=10)#, bw_adjust=0.15)\n",
        "plt.xlim([10,18])\n",
        "plt.ylim([10,18])\n",
        "ax.ticklabel_format(style='plain')\n",
        "ax.set_xlabel(\"Ingreso total observado, en logaritmos\")\n",
        "ax.set_ylabel(\"Ingreso total (observado + imputado), en logaritmos\")\n",
        "sns.despine()\n",
        "plt.savefig('views/ingreso_tot_vs_obs.jpg',bbox_inches='tight', dpi=150)"
      ]
    },
    {
      "cell_type": "code",
      "execution_count": null,
      "metadata": {
        "id": "kDtv93H98744"
      },
      "outputs": [],
      "source": [
        "df.describe()"
      ]
    },
    {
      "cell_type": "markdown",
      "metadata": {
        "id": "v8FtvKe9cACY"
      },
      "source": [
        "## Estimacion de modelos"
      ]
    },
    {
      "cell_type": "code",
      "execution_count": null,
      "metadata": {
        "id": "dQy6fdyq1Fiq"
      },
      "outputs": [],
      "source": [
        "X = df.loc[:,~df.columns.isin([\"ingtotes\", \"ingtot\", \"ingtotob\", \"log_ingtotes\", \"log_ingtot\", \"log_ingtotob\"])]\n",
        "\n",
        "y = df[[\"ingtot\"]]"
      ]
    },
    {
      "cell_type": "code",
      "execution_count": null,
      "metadata": {
        "id": "5OBk2oOi1Nh4"
      },
      "outputs": [],
      "source": [
        "X_train, X_test, y_train, y_test = train_test_split(\n",
        "                                        X,\n",
        "                                        y,\n",
        "                                        test_size=0.3,\n",
        "                                        train_size=0.7,\n",
        "                                        random_state = 84\n",
        "                                    )"
      ]
    },
    {
      "cell_type": "markdown",
      "metadata": {
        "id": "nGhkQZKUV9SC"
      },
      "source": [
        "# Predicting wages"
      ]
    },
    {
      "cell_type": "code",
      "execution_count": null,
      "metadata": {
        "id": "y3mvRb5b1giy"
      },
      "outputs": [],
      "source": [
        "#prediction on new data\n",
        "X0_test = np.ones((len(y_test), 1))\n",
        "y_hat_model1 = model1.predict(X0_test)"
      ]
    },
    {
      "cell_type": "code",
      "execution_count": null,
      "metadata": {
        "id": "MicYz5bV1VNk"
      },
      "outputs": [],
      "source": [
        "vars_model1 = []\n",
        "x_train_model1 = np.ones((len(y_train), 1))\n",
        "x_test_model1  = np.ones((len(y_test), 1))\n",
        "\n",
        "model1 =  LinearRegression().fit(x_train_model1,y_train)"
      ]
    },
    {
      "cell_type": "code",
      "execution_count": null,
      "metadata": {
        "colab": {
          "base_uri": "https://localhost:8080/"
        },
        "id": "uLU5UvkQ1lup",
        "outputId": "26029939-dedb-4cbd-e212-dc12b68cb1cf"
      },
      "outputs": [],
      "source": [
        "vars_model2 = ['age']\n",
        "x_train_model2 = X_train[vars_model2]\n",
        "x_test_model2  = X_test[vars_model2]\n",
        "model2=  LinearRegression().fit(x_train_model2,y_train)\n",
        "model2.coef_"
      ]
    },
    {
      "cell_type": "code",
      "execution_count": null,
      "metadata": {
        "colab": {
          "base_uri": "https://localhost:8080/"
        },
        "id": "CCViT8Xh8hhJ",
        "outputId": "c0d992b6-fe3e-4d4e-be9a-7b131075e8bb"
      },
      "outputs": [],
      "source": [
        "vars_model3 = [\n",
        "    'age',\n",
        "    'male',\n",
        "    'maxEducLevel_3',\n",
        "    'maxEducLevel_4',\n",
        "    'maxEducLevel_5',\n",
        "    'maxEducLevel_6',\n",
        "    'maxEducLevel_7',\n",
        "    \"maxEducLevel_nan\",\n",
        "]\n",
        "x_train_model3 = X_train[vars_model3]\n",
        "x_test_model3  = X_test[vars_model3]\n",
        "model3 = LinearRegression().fit(x_train_model3,y_train)\n",
        "model3.coef_"
      ]
    },
    {
      "cell_type": "code",
      "execution_count": null,
      "metadata": {
        "colab": {
          "base_uri": "https://localhost:8080/"
        },
        "id": "QLzQZi68-yB5",
        "outputId": "b2190bb2-0f15-4ce0-95f5-5fc49c576703"
      },
      "outputs": [],
      "source": [
        "vars_model4 = [\n",
        "    'age',\n",
        "    'male',\n",
        "    'maxEducLevel_3',\n",
        "    'maxEducLevel_4',\n",
        "    'maxEducLevel_5',\n",
        "    'maxEducLevel_6',\n",
        "    'maxEducLevel_7',\n",
        "    \"maxEducLevel_nan\",\n",
        "    'college',\n",
        "    'microEmpresa',\n",
        "    'sizeFirm',\n",
        "    'regSalud_2',\n",
        "    'cotPension_3',\n",
        "    'mes',\n",
        "  ]\n",
        "x_train_model4 = X_train[vars_model4]\n",
        "x_test_model4 = X_test[vars_model4]\n",
        "\n",
        "model4 = LinearRegression().fit(x_train_model4,y_train)\n",
        "model4.coef_"
      ]
    },
    {
      "cell_type": "code",
      "execution_count": null,
      "metadata": {
        "colab": {
          "base_uri": "https://localhost:8080/",
          "height": 443
        },
        "id": "y8TgGAxasZ9P",
        "outputId": "59d6cf0e-97fa-4f37-e19f-eeda954e3ba6"
      },
      "outputs": [],
      "source": [
        "X_train.loc[:, ~X_train.columns.isin([\n",
        "    'age',\n",
        "    'male',\n",
        "    'maxEducLevel_3',\n",
        "    'maxEducLevel_4',\n",
        "    'maxEducLevel_5',\n",
        "    'maxEducLevel_6',\n",
        "    'maxEducLevel_7',\n",
        "    'college',\n",
        "    'microEmpresa',\n",
        "    'sizeFirm',\n",
        "    'regSalud_2',\n",
        "    'cotPension_3',\n",
        "    'mes',\n",
        "  ])]"
      ]
    },
    {
      "cell_type": "code",
      "execution_count": null,
      "metadata": {
        "colab": {
          "base_uri": "https://localhost:8080/"
        },
        "id": "xvA-CVwNfGZW",
        "outputId": "4a472263-486b-4b7d-aac4-7cdb5ba7930b"
      },
      "outputs": [],
      "source": [
        "x_train_model5 = X_train\n",
        "x_test_model5 = X_test\n",
        "\n",
        "model5 = LinearRegression().fit(X_train,y_train)\n",
        "model5.coef_"
      ]
    },
    {
      "cell_type": "code",
      "execution_count": null,
      "metadata": {
        "id": "ZJi5oUKye3yZ"
      },
      "outputs": [],
      "source": [
        "poly = PolynomialFeatures(degree=2)\n",
        "\n",
        "x_train_model6 = poly.fit_transform(\n",
        "    X_train[\n",
        "      ['age',\n",
        "      'male',\n",
        "      'maxEducLevel_3',\n",
        "      'maxEducLevel_4',\n",
        "      'maxEducLevel_5',\n",
        "      'maxEducLevel_6',\n",
        "      'maxEducLevel_7',\n",
        "      'maxEducLevel_nan',\n",
        "      'college',\n",
        "      'microEmpresa',\n",
        "      'sizeFirm',\n",
        "      'regSalud_2',\n",
        "      'cotPension_3']]\n",
        ")\n",
        "x_test_model6 = poly.fit_transform(\n",
        "    X_test[\n",
        "      ['age',\n",
        "      'male',\n",
        "      'maxEducLevel_3',\n",
        "      'maxEducLevel_4',\n",
        "      'maxEducLevel_5',\n",
        "      'maxEducLevel_6',\n",
        "      'maxEducLevel_7',\n",
        "      'maxEducLevel_nan',\n",
        "      'college',\n",
        "      'microEmpresa',\n",
        "      'sizeFirm',\n",
        "      'regSalud_2',\n",
        "      'cotPension_3']]\n",
        ")\n",
        "\n",
        "\n",
        "model6 =  LinearRegression().fit(x_train_model6,y_train)"
      ]
    },
    {
      "cell_type": "code",
      "execution_count": null,
      "metadata": {
        "id": "-e6OJczV_3fZ"
      },
      "outputs": [],
      "source": [
        "poly = PolynomialFeatures(degree=2)\n",
        "\n",
        "x_train_model7 = poly.fit_transform(X_train)\n",
        "x_test_model7  = poly.fit_transform(X_test)\n",
        "model7 =  LinearRegression().fit(x_train_model7,y_train)"
      ]
    },
    {
      "cell_type": "code",
      "execution_count": null,
      "metadata": {
        "id": "iUaRYnX5fAXN"
      },
      "outputs": [],
      "source": [
        "poly = PolynomialFeatures(degree=3)\n",
        "\n",
        "x_train_model8 = poly.fit_transform(X_train[['age',\n",
        "                                         'male',\n",
        "                                         'maxEducLevel_3',\n",
        "                                         'maxEducLevel_4',\n",
        "                                         'maxEducLevel_5',\n",
        "                                         'maxEducLevel_6',\n",
        "                                         'maxEducLevel_7',\n",
        "                                         'maxEducLevel_nan',\n",
        "                                         'college',\n",
        "                                         'microEmpresa',\n",
        "                                         'sizeFirm',\n",
        "                                         'regSalud_2',\n",
        "                                         'cotPension_3',\n",
        "                                         'mes']])\n",
        "x_test_model8 = poly.fit_transform(X_test[['age',\n",
        "                                         'male',\n",
        "                                         'maxEducLevel_3',\n",
        "                                         'maxEducLevel_4',\n",
        "                                         'maxEducLevel_5',\n",
        "                                         'maxEducLevel_6',\n",
        "                                         'maxEducLevel_7',\n",
        "                                         'maxEducLevel_nan',\n",
        "                                         'college',\n",
        "                                         'microEmpresa',\n",
        "                                         'sizeFirm',\n",
        "                                         'regSalud_2',\n",
        "                                         'cotPension_3',\n",
        "                                         'mes']])\n",
        "\n",
        "model8 =  LinearRegression().fit(x_train_model8,y_train)"
      ]
    },
    {
      "cell_type": "code",
      "execution_count": null,
      "metadata": {
        "id": "aO3U2z3vDGFk"
      },
      "outputs": [],
      "source": [
        "poly = PolynomialFeatures(degree=3)\n",
        "\n",
        "x_train_model9 = poly.fit_transform(X_train)\n",
        "x_test_model9 = poly.fit_transform(X_test)\n",
        "\n",
        "model9 =  LinearRegression().fit(x_train_model9,y_train)"
      ]
    },
    {
      "cell_type": "code",
      "execution_count": null,
      "metadata": {
        "id": "K8mW35hvfZNw"
      },
      "outputs": [],
      "source": [
        "poly = PolynomialFeatures(degree=4)\n",
        "\n",
        "x_train_model10 = poly.fit_transform(X_train)\n",
        "x_test_model10 = poly.fit_transform(X_test)\n",
        "\n",
        "model10 =  LinearRegression().fit(x_train_model10,y_train)"
      ]
    },
    {
      "cell_type": "code",
      "execution_count": null,
      "metadata": {
        "id": "8C41WiuCXCS8"
      },
      "outputs": [],
      "source": [
        "def compute_rmse(model, x_set, y_set):\n",
        "  y_hat_model= model.predict(x_set)\n",
        "\n",
        "  # Calculate Mean Squared Error\n",
        "  mse_model = mean_squared_error(y_set, y_hat_model)\n",
        "\n",
        "  # Calcular la raíz cuadrada del error cuadrático medio (RMSE)\n",
        "  rmse_model = np.sqrt(mse_model)\n",
        "\n",
        "  return rmse_model"
      ]
    },
    {
      "cell_type": "code",
      "execution_count": null,
      "metadata": {
        "id": "Fjo5dzIlgpnw"
      },
      "outputs": [],
      "source": [
        "### Compute RMSE for each model\n",
        "model_list = [model1, model2, model3, model4, model5, model6, model7, model8, model9, model10]\n",
        "x_train_list  = [x_train_model1, x_train_model2, x_train_model3, x_train_model4, x_train_model5, x_train_model6, x_train_model7, x_train_model8, x_train_model9, x_train_model10]\n",
        "x_test_list  = [x_test_model1, x_test_model2, x_test_model3, x_test_model4, x_test_model5, x_test_model6, x_test_model7, x_test_model8, x_test_model9, x_test_model10]\n",
        "\n",
        "zipped = zip(x_train_list, x_test_list, model_list)\n",
        "modelnames = [f\"Model {i}\" for i in range(1, len(model_list)+1)]\n",
        "\n",
        "train_rmse = []\n",
        "test_rmse = []\n",
        "for x_train, x_test, model in zipped:\n",
        "    train_rmse += [compute_rmse(model, x_train, y_train)]\n",
        "    test_rmse += [compute_rmse(model, x_test, y_test)]"
      ]
    },
    {
      "cell_type": "markdown",
      "metadata": {
        "id": "TRn462UbRbDM"
      },
      "source": [
        "# Leave-one-out-cross-validation (LOOCV)"
      ]
    },
    {
      "cell_type": "code",
      "execution_count": null,
      "metadata": {
        "id": "xzfoRBgfRZqk"
      },
      "outputs": [],
      "source": [
        "kf = KFold(n_splits=10, shuffle=True, random_state=84)"
      ]
    },
    {
      "cell_type": "code",
      "execution_count": null,
      "metadata": {
        "id": "P3zGJ5uhR5fF"
      },
      "outputs": [],
      "source": [
        "# Modelo\n",
        "lin_reg = LinearRegression()\n",
        "X1 = x_train_model5\n",
        "X2 = x_train_model6\n",
        "y = y_train"
      ]
    },
    {
      "cell_type": "code",
      "execution_count": null,
      "metadata": {
        "colab": {
          "base_uri": "https://localhost:8080/"
        },
        "id": "0exEh3abR8H7",
        "outputId": "6d67413d-7b29-4937-df32-4c034d459c6e"
      },
      "outputs": [],
      "source": [
        "scores = cross_val_score(model, X1, y, cv=kf, scoring='neg_mean_squared_error')\n",
        "\n",
        "# Resultados\n",
        "mse_scores = -scores  # Convertir a positivo\n",
        "\n",
        "# Calcular la raíz cuadrada del error cuadrático medio (RMSE)\n",
        "rmse_scores = np.sqrt(mse_scores)\n",
        "model5_loocv = rmse_scores.mean()\n",
        "print(f'RMSE por iteración: {rmse_scores}')\n",
        "print(f'Media del RMSE: {model5_loocv}')"
      ]
    },
    {
      "cell_type": "code",
      "execution_count": null,
      "metadata": {
        "id": "ffSwjzYRm1lE"
      },
      "outputs": [],
      "source": [
        "scores = cross_val_score(model, X2, y, cv=kf, scoring='neg_mean_squared_error')\n",
        "\n",
        "# Resultados\n",
        "mse_scores = -scores  # Convertir a positivo\n",
        "\n",
        "# Calcular la raíz cuadrada del error cuadrático medio (RMSE)\n",
        "rmse_scores = np.sqrt(mse_scores)\n",
        "model6_loocv = rmse_scores.mean()\n",
        "\n",
        "print(f'RMSE por iteración: {rmse_scores}')\n",
        "print(f'Media del RMSE: {model6_loocv}')"
      ]
    },
    {
      "cell_type": "code",
      "execution_count": null,
      "metadata": {
        "colab": {
          "base_uri": "https://localhost:8080/",
          "height": 254
        },
        "id": "fvgl2lz0nC7W",
        "outputId": "9eaac600-4f64-4335-98f4-1bb0040642e9"
      },
      "outputs": [],
      "source": [
        "# Plot errors\n",
        "sns.set(rc={'figure.figsize':(8,6)})\n",
        "sns.set_theme(style=\"ticks\")\n",
        "plt.plot(modelnames, train_rmse, label=\"Train RMSE\")\n",
        "plt.plot(modelnames, test_rmse, label=\"Test RMSE\")\n",
        "sns.despine()\n",
        "plt.ylim([2200000,4000000])\n",
        "plt.xticks(rotation=45)\n",
        "plt.axhline(train_rmse[0], ls='--')\n",
        "plt.scatter([\"Model 5\",\"Model 6\"],[model5_loocv, model6_loocv], color=\"red\", label=\"Test LOOCV RMSE\")\n",
        "plt.legend()\n",
        "plt.savefig('views/RMSE_models.jpg',bbox_inches='tight', dpi=150)"
      ]
    },
    {
      "cell_type": "markdown",
      "metadata": {
        "id": "iPlh5jOteO7w"
      },
      "source": [
        "## Análisis del modelo"
      ]
    },
    {
      "cell_type": "code",
      "execution_count": null,
      "metadata": {
        "colab": {
          "base_uri": "https://localhost:8080/",
          "height": 566
        },
        "id": "5JI3SjqRbiCs",
        "outputId": "95448051-91fc-4aae-9bc5-d6d9269aa3cf"
      },
      "outputs": [],
      "source": [
        "y_hat_model= model6.predict(x_test_model6)\n",
        "y_diff = y_test - y_hat_model\n",
        "\n",
        "\n",
        "fig = plt.scatter(y=y_diff, x=y_test, s=10)#, bw_adjust=0.15)\n",
        "# plt.xlim([10,18])\n",
        "# plt.ylim([10,18])\n",
        "# ax.ticklabel_format(style='plain')\n",
        "plt.gca().set_xlabel(\"Ingreso total observado\")\n",
        "plt.gca().set_ylabel(\"Error de estimación estimado (observado - estimado)\")\n",
        "sns.despine()\n",
        "plt.savefig('views/ingreso_est_vs_obs.jpg',bbox_inches='tight', dpi=150)"
      ]
    }
  ],
  "metadata": {
    "colab": {
      "provenance": []
    },
    "kernelspec": {
      "display_name": "Python 3",
      "name": "python3"
    },
    "language_info": {
      "codemirror_mode": {
        "name": "ipython",
        "version": 3
      },
      "file_extension": ".py",
      "mimetype": "text/x-python",
      "name": "python",
      "nbconvert_exporter": "python",
      "pygments_lexer": "ipython3",
      "version": "3.10.0"
    }
  },
  "nbformat": 4,
  "nbformat_minor": 0
}
